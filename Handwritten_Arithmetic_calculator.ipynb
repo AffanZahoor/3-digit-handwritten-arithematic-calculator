{
  "nbformat": 4,
  "nbformat_minor": 0,
  "metadata": {
    "colab": {
      "provenance": []
    },
    "kernelspec": {
      "name": "python3",
      "display_name": "Python 3"
    },
    "language_info": {
      "name": "python"
    },
    "accelerator": "GPU",
    "widgets": {
      "application/vnd.jupyter.widget-state+json": {
        "1c10f5799e514e2cb060f23381c6314d": {
          "model_module": "@jupyter-widgets/controls",
          "model_name": "HBoxModel",
          "model_module_version": "1.5.0",
          "state": {
            "_dom_classes": [],
            "_model_module": "@jupyter-widgets/controls",
            "_model_module_version": "1.5.0",
            "_model_name": "HBoxModel",
            "_view_count": null,
            "_view_module": "@jupyter-widgets/controls",
            "_view_module_version": "1.5.0",
            "_view_name": "HBoxView",
            "box_style": "",
            "children": [
              "IPY_MODEL_cafafa031f894845a5541b37fb3a133a",
              "IPY_MODEL_eb3682be89ca4b6ab58a8e921bbf9377",
              "IPY_MODEL_a563b5956f634a51a0dc9dc447ad3db9"
            ],
            "layout": "IPY_MODEL_f68fb99047a642d6a7af00ceb9cc6bc4"
          }
        },
        "cafafa031f894845a5541b37fb3a133a": {
          "model_module": "@jupyter-widgets/controls",
          "model_name": "HTMLModel",
          "model_module_version": "1.5.0",
          "state": {
            "_dom_classes": [],
            "_model_module": "@jupyter-widgets/controls",
            "_model_module_version": "1.5.0",
            "_model_name": "HTMLModel",
            "_view_count": null,
            "_view_module": "@jupyter-widgets/controls",
            "_view_module_version": "1.5.0",
            "_view_name": "HTMLView",
            "description": "",
            "description_tooltip": null,
            "layout": "IPY_MODEL_825502a5fb2f46fabda131163c049650",
            "placeholder": "​",
            "style": "IPY_MODEL_d199f7f11272441b9b3ccf325cf705f3",
            "value": "100%"
          }
        },
        "eb3682be89ca4b6ab58a8e921bbf9377": {
          "model_module": "@jupyter-widgets/controls",
          "model_name": "FloatProgressModel",
          "model_module_version": "1.5.0",
          "state": {
            "_dom_classes": [],
            "_model_module": "@jupyter-widgets/controls",
            "_model_module_version": "1.5.0",
            "_model_name": "FloatProgressModel",
            "_view_count": null,
            "_view_module": "@jupyter-widgets/controls",
            "_view_module_version": "1.5.0",
            "_view_name": "ProgressView",
            "bar_style": "success",
            "description": "",
            "description_tooltip": null,
            "layout": "IPY_MODEL_7ae025710460473cb3cf31b9227e675c",
            "max": 49000,
            "min": 0,
            "orientation": "horizontal",
            "style": "IPY_MODEL_2f30f37aae2f4e6aba323cb9ccdbec5f",
            "value": 49000
          }
        },
        "a563b5956f634a51a0dc9dc447ad3db9": {
          "model_module": "@jupyter-widgets/controls",
          "model_name": "HTMLModel",
          "model_module_version": "1.5.0",
          "state": {
            "_dom_classes": [],
            "_model_module": "@jupyter-widgets/controls",
            "_model_module_version": "1.5.0",
            "_model_name": "HTMLModel",
            "_view_count": null,
            "_view_module": "@jupyter-widgets/controls",
            "_view_module_version": "1.5.0",
            "_view_name": "HTMLView",
            "description": "",
            "description_tooltip": null,
            "layout": "IPY_MODEL_66e43991ed9e43de97e1e613686482e7",
            "placeholder": "​",
            "style": "IPY_MODEL_705f21f350a944db8ecc372581c25906",
            "value": " 49000/49000 [00:11&lt;00:00, 4095.23it/s]"
          }
        },
        "f68fb99047a642d6a7af00ceb9cc6bc4": {
          "model_module": "@jupyter-widgets/base",
          "model_name": "LayoutModel",
          "model_module_version": "1.2.0",
          "state": {
            "_model_module": "@jupyter-widgets/base",
            "_model_module_version": "1.2.0",
            "_model_name": "LayoutModel",
            "_view_count": null,
            "_view_module": "@jupyter-widgets/base",
            "_view_module_version": "1.2.0",
            "_view_name": "LayoutView",
            "align_content": null,
            "align_items": null,
            "align_self": null,
            "border": null,
            "bottom": null,
            "display": null,
            "flex": null,
            "flex_flow": null,
            "grid_area": null,
            "grid_auto_columns": null,
            "grid_auto_flow": null,
            "grid_auto_rows": null,
            "grid_column": null,
            "grid_gap": null,
            "grid_row": null,
            "grid_template_areas": null,
            "grid_template_columns": null,
            "grid_template_rows": null,
            "height": null,
            "justify_content": null,
            "justify_items": null,
            "left": null,
            "margin": null,
            "max_height": null,
            "max_width": null,
            "min_height": null,
            "min_width": null,
            "object_fit": null,
            "object_position": null,
            "order": null,
            "overflow": null,
            "overflow_x": null,
            "overflow_y": null,
            "padding": null,
            "right": null,
            "top": null,
            "visibility": null,
            "width": null
          }
        },
        "825502a5fb2f46fabda131163c049650": {
          "model_module": "@jupyter-widgets/base",
          "model_name": "LayoutModel",
          "model_module_version": "1.2.0",
          "state": {
            "_model_module": "@jupyter-widgets/base",
            "_model_module_version": "1.2.0",
            "_model_name": "LayoutModel",
            "_view_count": null,
            "_view_module": "@jupyter-widgets/base",
            "_view_module_version": "1.2.0",
            "_view_name": "LayoutView",
            "align_content": null,
            "align_items": null,
            "align_self": null,
            "border": null,
            "bottom": null,
            "display": null,
            "flex": null,
            "flex_flow": null,
            "grid_area": null,
            "grid_auto_columns": null,
            "grid_auto_flow": null,
            "grid_auto_rows": null,
            "grid_column": null,
            "grid_gap": null,
            "grid_row": null,
            "grid_template_areas": null,
            "grid_template_columns": null,
            "grid_template_rows": null,
            "height": null,
            "justify_content": null,
            "justify_items": null,
            "left": null,
            "margin": null,
            "max_height": null,
            "max_width": null,
            "min_height": null,
            "min_width": null,
            "object_fit": null,
            "object_position": null,
            "order": null,
            "overflow": null,
            "overflow_x": null,
            "overflow_y": null,
            "padding": null,
            "right": null,
            "top": null,
            "visibility": null,
            "width": null
          }
        },
        "d199f7f11272441b9b3ccf325cf705f3": {
          "model_module": "@jupyter-widgets/controls",
          "model_name": "DescriptionStyleModel",
          "model_module_version": "1.5.0",
          "state": {
            "_model_module": "@jupyter-widgets/controls",
            "_model_module_version": "1.5.0",
            "_model_name": "DescriptionStyleModel",
            "_view_count": null,
            "_view_module": "@jupyter-widgets/base",
            "_view_module_version": "1.2.0",
            "_view_name": "StyleView",
            "description_width": ""
          }
        },
        "7ae025710460473cb3cf31b9227e675c": {
          "model_module": "@jupyter-widgets/base",
          "model_name": "LayoutModel",
          "model_module_version": "1.2.0",
          "state": {
            "_model_module": "@jupyter-widgets/base",
            "_model_module_version": "1.2.0",
            "_model_name": "LayoutModel",
            "_view_count": null,
            "_view_module": "@jupyter-widgets/base",
            "_view_module_version": "1.2.0",
            "_view_name": "LayoutView",
            "align_content": null,
            "align_items": null,
            "align_self": null,
            "border": null,
            "bottom": null,
            "display": null,
            "flex": null,
            "flex_flow": null,
            "grid_area": null,
            "grid_auto_columns": null,
            "grid_auto_flow": null,
            "grid_auto_rows": null,
            "grid_column": null,
            "grid_gap": null,
            "grid_row": null,
            "grid_template_areas": null,
            "grid_template_columns": null,
            "grid_template_rows": null,
            "height": null,
            "justify_content": null,
            "justify_items": null,
            "left": null,
            "margin": null,
            "max_height": null,
            "max_width": null,
            "min_height": null,
            "min_width": null,
            "object_fit": null,
            "object_position": null,
            "order": null,
            "overflow": null,
            "overflow_x": null,
            "overflow_y": null,
            "padding": null,
            "right": null,
            "top": null,
            "visibility": null,
            "width": null
          }
        },
        "2f30f37aae2f4e6aba323cb9ccdbec5f": {
          "model_module": "@jupyter-widgets/controls",
          "model_name": "ProgressStyleModel",
          "model_module_version": "1.5.0",
          "state": {
            "_model_module": "@jupyter-widgets/controls",
            "_model_module_version": "1.5.0",
            "_model_name": "ProgressStyleModel",
            "_view_count": null,
            "_view_module": "@jupyter-widgets/base",
            "_view_module_version": "1.2.0",
            "_view_name": "StyleView",
            "bar_color": null,
            "description_width": ""
          }
        },
        "66e43991ed9e43de97e1e613686482e7": {
          "model_module": "@jupyter-widgets/base",
          "model_name": "LayoutModel",
          "model_module_version": "1.2.0",
          "state": {
            "_model_module": "@jupyter-widgets/base",
            "_model_module_version": "1.2.0",
            "_model_name": "LayoutModel",
            "_view_count": null,
            "_view_module": "@jupyter-widgets/base",
            "_view_module_version": "1.2.0",
            "_view_name": "LayoutView",
            "align_content": null,
            "align_items": null,
            "align_self": null,
            "border": null,
            "bottom": null,
            "display": null,
            "flex": null,
            "flex_flow": null,
            "grid_area": null,
            "grid_auto_columns": null,
            "grid_auto_flow": null,
            "grid_auto_rows": null,
            "grid_column": null,
            "grid_gap": null,
            "grid_row": null,
            "grid_template_areas": null,
            "grid_template_columns": null,
            "grid_template_rows": null,
            "height": null,
            "justify_content": null,
            "justify_items": null,
            "left": null,
            "margin": null,
            "max_height": null,
            "max_width": null,
            "min_height": null,
            "min_width": null,
            "object_fit": null,
            "object_position": null,
            "order": null,
            "overflow": null,
            "overflow_x": null,
            "overflow_y": null,
            "padding": null,
            "right": null,
            "top": null,
            "visibility": null,
            "width": null
          }
        },
        "705f21f350a944db8ecc372581c25906": {
          "model_module": "@jupyter-widgets/controls",
          "model_name": "DescriptionStyleModel",
          "model_module_version": "1.5.0",
          "state": {
            "_model_module": "@jupyter-widgets/controls",
            "_model_module_version": "1.5.0",
            "_model_name": "DescriptionStyleModel",
            "_view_count": null,
            "_view_module": "@jupyter-widgets/base",
            "_view_module_version": "1.2.0",
            "_view_name": "StyleView",
            "description_width": ""
          }
        }
      }
    }
  },
  "cells": [
    {
      "cell_type": "markdown",
      "source": [
        "**Handwritten Arithmetic Calculator**"
      ],
      "metadata": {
        "id": "yGk0EMNwjHkB"
      }
    },
    {
      "cell_type": "markdown",
      "source": [
        "Importing Libraries"
      ],
      "metadata": {
        "id": "ufGJetP8jOYz"
      }
    },
    {
      "cell_type": "code",
      "execution_count": null,
      "metadata": {
        "id": "hVX08LENn0Xr"
      },
      "outputs": [],
      "source": [
        "import pandas as pd\n",
        "import numpy as np\n",
        "from tqdm.notebook import tqdm\n",
        "import tensorflow as tf\n",
        "from tensorflow.keras.utils import img_to_array, load_img\n",
        "import matplotlib.pyplot as plt\n",
        "%matplotlib inline\n",
        "import warnings\n",
        "warnings.filterwarnings('ignore')"
      ]
    },
    {
      "cell_type": "markdown",
      "source": [
        "Extracting data"
      ],
      "metadata": {
        "id": "MyPZkRXSjVZo"
      }
    },
    {
      "cell_type": "code",
      "source": [
        "!unzip train.zip"
      ],
      "metadata": {
        "colab": {
          "base_uri": "https://localhost:8080/"
        },
        "id": "uzNByGNbsOxa",
        "outputId": "3d189d08-9271-450e-d83d-daf4d4073f7d"
      },
      "execution_count": null,
      "outputs": [
        {
          "output_type": "stream",
          "name": "stdout",
          "text": [
            "Archive:  train.zip\n",
            "  End-of-central-directory signature not found.  Either this file is not\n",
            "  a zipfile, or it constitutes one disk of a multi-part archive.  In the\n",
            "  latter case the central directory and zipfile comment will be found on\n",
            "  the last disk(s) of this archive.\n",
            "unzip:  cannot find zipfile directory in one of train.zip or\n",
            "        train.zip.zip, and cannot find train.zip.ZIP, period.\n"
          ]
        }
      ]
    },
    {
      "cell_type": "code",
      "source": [
        "df = pd.read_csv('train.csv')\n",
        "df.head()"
      ],
      "metadata": {
        "colab": {
          "base_uri": "https://localhost:8080/",
          "height": 206
        },
        "id": "a1wYUAp2sfzs",
        "outputId": "c629c767-7598-47f5-a2bd-48d344537b57"
      },
      "execution_count": null,
      "outputs": [
        {
          "output_type": "execute_result",
          "data": {
            "text/plain": [
              "  filename  label\n",
              "0    0.png      4\n",
              "1    1.png      9\n",
              "2    2.png      1\n",
              "3    3.png      7\n",
              "4    4.png      3"
            ],
            "text/html": [
              "\n",
              "  <div id=\"df-ec6ea72f-536f-4ffc-9c47-8a56b0220a15\">\n",
              "    <div class=\"colab-df-container\">\n",
              "      <div>\n",
              "<style scoped>\n",
              "    .dataframe tbody tr th:only-of-type {\n",
              "        vertical-align: middle;\n",
              "    }\n",
              "\n",
              "    .dataframe tbody tr th {\n",
              "        vertical-align: top;\n",
              "    }\n",
              "\n",
              "    .dataframe thead th {\n",
              "        text-align: right;\n",
              "    }\n",
              "</style>\n",
              "<table border=\"1\" class=\"dataframe\">\n",
              "  <thead>\n",
              "    <tr style=\"text-align: right;\">\n",
              "      <th></th>\n",
              "      <th>filename</th>\n",
              "      <th>label</th>\n",
              "    </tr>\n",
              "  </thead>\n",
              "  <tbody>\n",
              "    <tr>\n",
              "      <th>0</th>\n",
              "      <td>0.png</td>\n",
              "      <td>4</td>\n",
              "    </tr>\n",
              "    <tr>\n",
              "      <th>1</th>\n",
              "      <td>1.png</td>\n",
              "      <td>9</td>\n",
              "    </tr>\n",
              "    <tr>\n",
              "      <th>2</th>\n",
              "      <td>2.png</td>\n",
              "      <td>1</td>\n",
              "    </tr>\n",
              "    <tr>\n",
              "      <th>3</th>\n",
              "      <td>3.png</td>\n",
              "      <td>7</td>\n",
              "    </tr>\n",
              "    <tr>\n",
              "      <th>4</th>\n",
              "      <td>4.png</td>\n",
              "      <td>3</td>\n",
              "    </tr>\n",
              "  </tbody>\n",
              "</table>\n",
              "</div>\n",
              "      <button class=\"colab-df-convert\" onclick=\"convertToInteractive('df-ec6ea72f-536f-4ffc-9c47-8a56b0220a15')\"\n",
              "              title=\"Convert this dataframe to an interactive table.\"\n",
              "              style=\"display:none;\">\n",
              "        \n",
              "  <svg xmlns=\"http://www.w3.org/2000/svg\" height=\"24px\"viewBox=\"0 0 24 24\"\n",
              "       width=\"24px\">\n",
              "    <path d=\"M0 0h24v24H0V0z\" fill=\"none\"/>\n",
              "    <path d=\"M18.56 5.44l.94 2.06.94-2.06 2.06-.94-2.06-.94-.94-2.06-.94 2.06-2.06.94zm-11 1L8.5 8.5l.94-2.06 2.06-.94-2.06-.94L8.5 2.5l-.94 2.06-2.06.94zm10 10l.94 2.06.94-2.06 2.06-.94-2.06-.94-.94-2.06-.94 2.06-2.06.94z\"/><path d=\"M17.41 7.96l-1.37-1.37c-.4-.4-.92-.59-1.43-.59-.52 0-1.04.2-1.43.59L10.3 9.45l-7.72 7.72c-.78.78-.78 2.05 0 2.83L4 21.41c.39.39.9.59 1.41.59.51 0 1.02-.2 1.41-.59l7.78-7.78 2.81-2.81c.8-.78.8-2.07 0-2.86zM5.41 20L4 18.59l7.72-7.72 1.47 1.35L5.41 20z\"/>\n",
              "  </svg>\n",
              "      </button>\n",
              "      \n",
              "  <style>\n",
              "    .colab-df-container {\n",
              "      display:flex;\n",
              "      flex-wrap:wrap;\n",
              "      gap: 12px;\n",
              "    }\n",
              "\n",
              "    .colab-df-convert {\n",
              "      background-color: #E8F0FE;\n",
              "      border: none;\n",
              "      border-radius: 50%;\n",
              "      cursor: pointer;\n",
              "      display: none;\n",
              "      fill: #1967D2;\n",
              "      height: 32px;\n",
              "      padding: 0 0 0 0;\n",
              "      width: 32px;\n",
              "    }\n",
              "\n",
              "    .colab-df-convert:hover {\n",
              "      background-color: #E2EBFA;\n",
              "      box-shadow: 0px 1px 2px rgba(60, 64, 67, 0.3), 0px 1px 3px 1px rgba(60, 64, 67, 0.15);\n",
              "      fill: #174EA6;\n",
              "    }\n",
              "\n",
              "    [theme=dark] .colab-df-convert {\n",
              "      background-color: #3B4455;\n",
              "      fill: #D2E3FC;\n",
              "    }\n",
              "\n",
              "    [theme=dark] .colab-df-convert:hover {\n",
              "      background-color: #434B5C;\n",
              "      box-shadow: 0px 1px 3px 1px rgba(0, 0, 0, 0.15);\n",
              "      filter: drop-shadow(0px 1px 2px rgba(0, 0, 0, 0.3));\n",
              "      fill: #FFFFFF;\n",
              "    }\n",
              "  </style>\n",
              "\n",
              "      <script>\n",
              "        const buttonEl =\n",
              "          document.querySelector('#df-ec6ea72f-536f-4ffc-9c47-8a56b0220a15 button.colab-df-convert');\n",
              "        buttonEl.style.display =\n",
              "          google.colab.kernel.accessAllowed ? 'block' : 'none';\n",
              "\n",
              "        async function convertToInteractive(key) {\n",
              "          const element = document.querySelector('#df-ec6ea72f-536f-4ffc-9c47-8a56b0220a15');\n",
              "          const dataTable =\n",
              "            await google.colab.kernel.invokeFunction('convertToInteractive',\n",
              "                                                     [key], {});\n",
              "          if (!dataTable) return;\n",
              "\n",
              "          const docLinkHtml = 'Like what you see? Visit the ' +\n",
              "            '<a target=\"_blank\" href=https://colab.research.google.com/notebooks/data_table.ipynb>data table notebook</a>'\n",
              "            + ' to learn more about interactive tables.';\n",
              "          element.innerHTML = '';\n",
              "          dataTable['output_type'] = 'display_data';\n",
              "          await google.colab.output.renderOutput(dataTable, element);\n",
              "          const docLink = document.createElement('div');\n",
              "          docLink.innerHTML = docLinkHtml;\n",
              "          element.appendChild(docLink);\n",
              "        }\n",
              "      </script>\n",
              "    </div>\n",
              "  </div>\n",
              "  "
            ]
          },
          "metadata": {},
          "execution_count": 3
        }
      ]
    },
    {
      "cell_type": "code",
      "source": [
        "image_path='train/'"
      ],
      "metadata": {
        "id": "FdvVtCd_umkk"
      },
      "execution_count": null,
      "outputs": []
    },
    {
      "cell_type": "markdown",
      "source": [
        "Converting Data in Arrays"
      ],
      "metadata": {
        "id": "8ZqvtgGEjdaN"
      }
    },
    {
      "cell_type": "code",
      "source": [
        "X = np.array([img_to_array(load_img(image_path+df['filename'][i],target_size=(28,28,1),grayscale=True))\n",
        "              for i in tqdm(range(df.shape[0]))\n",
        "              ]).astype('float32')\n"
      ],
      "metadata": {
        "colab": {
          "base_uri": "https://localhost:8080/",
          "height": 49,
          "referenced_widgets": [
            "1c10f5799e514e2cb060f23381c6314d",
            "cafafa031f894845a5541b37fb3a133a",
            "eb3682be89ca4b6ab58a8e921bbf9377",
            "a563b5956f634a51a0dc9dc447ad3db9",
            "f68fb99047a642d6a7af00ceb9cc6bc4",
            "825502a5fb2f46fabda131163c049650",
            "d199f7f11272441b9b3ccf325cf705f3",
            "7ae025710460473cb3cf31b9227e675c",
            "2f30f37aae2f4e6aba323cb9ccdbec5f",
            "66e43991ed9e43de97e1e613686482e7",
            "705f21f350a944db8ecc372581c25906"
          ]
        },
        "id": "ddPFl2uyu2JN",
        "outputId": "4294263c-5bd6-41dd-cfba-2398fecbf656"
      },
      "execution_count": null,
      "outputs": [
        {
          "output_type": "display_data",
          "data": {
            "text/plain": [
              "  0%|          | 0/49000 [00:00<?, ?it/s]"
            ],
            "application/vnd.jupyter.widget-view+json": {
              "version_major": 2,
              "version_minor": 0,
              "model_id": "1c10f5799e514e2cb060f23381c6314d"
            }
          },
          "metadata": {}
        }
      ]
    },
    {
      "cell_type": "code",
      "source": [
        "Y = df['label']"
      ],
      "metadata": {
        "id": "UkhVvn8_wCS3"
      },
      "execution_count": null,
      "outputs": []
    },
    {
      "cell_type": "code",
      "source": [
        "# print(X.shape,Y.shape)"
      ],
      "metadata": {
        "colab": {
          "base_uri": "https://localhost:8080/"
        },
        "id": "VFhHO4BPwDuR",
        "outputId": "8778c6c6-f4f1-4d4e-c7d0-8dcaf63fa909"
      },
      "execution_count": null,
      "outputs": [
        {
          "output_type": "stream",
          "name": "stdout",
          "text": [
            "(49000, 28, 28, 1) (49000,)\n"
          ]
        }
      ]
    },
    {
      "cell_type": "code",
      "source": [
        "# image_index=3000\n",
        "# print(Y[image_index])\n",
        "# plt.imshow(X[image_index].reshape(28,28),cmap='Greys')"
      ],
      "metadata": {
        "colab": {
          "base_uri": "https://localhost:8080/",
          "height": 300
        },
        "id": "D4O1XlVixRd1",
        "outputId": "cfda7762-d781-4819-bd18-310d907146a9"
      },
      "execution_count": null,
      "outputs": [
        {
          "output_type": "stream",
          "name": "stdout",
          "text": [
            "9\n"
          ]
        },
        {
          "output_type": "execute_result",
          "data": {
            "text/plain": [
              "<matplotlib.image.AxesImage at 0x7f3eb466a2d0>"
            ]
          },
          "metadata": {},
          "execution_count": 8
        },
        {
          "output_type": "display_data",
          "data": {
            "text/plain": [
              "<Figure size 432x288 with 1 Axes>"
            ],
            "image/png": "[encoded data removed]"
          },
          "metadata": {
            "needs_background": "light"
          }
        }
      ]
    },
    {
      "cell_type": "markdown",
      "source": [
        "Traning Data"
      ],
      "metadata": {
        "id": "KEz6G8pCjhif"
      }
    },
    {
      "cell_type": "code",
      "source": [
        "from sklearn.model_selection import train_test_split"
      ],
      "metadata": {
        "id": "Z_uN3xtexlVy"
      },
      "execution_count": null,
      "outputs": []
    },
    {
      "cell_type": "code",
      "source": [
        "x_train,x_test,y_train,y_test = train_test_split(X,Y,test_size=0.1,random_state=42,stratify=np.array(Y))"
      ],
      "metadata": {
        "id": "IFYQ_baAx_hu"
      },
      "execution_count": null,
      "outputs": []
    },
    {
      "cell_type": "code",
      "source": [
        "x_train /=255\n",
        "x_test /=255"
      ],
      "metadata": {
        "id": "vbAx5p84yeL5"
      },
      "execution_count": null,
      "outputs": []
    },
    {
      "cell_type": "code",
      "source": [
        "from keras.models import Sequential\n",
        "from keras.layers import Dense, Conv2D, Dropout, Flatten, MaxPooling2D\n"
      ],
      "metadata": {
        "id": "1M_mW3BDyr1j"
      },
      "execution_count": null,
      "outputs": []
    },
    {
      "cell_type": "code",
      "source": [
        "input_shape=(28,28,1)\n",
        "output_class=10"
      ],
      "metadata": {
        "id": "5KzK5bxoJpqZ"
      },
      "execution_count": null,
      "outputs": []
    },
    {
      "cell_type": "code",
      "source": [
        "model= Sequential()\n",
        "model.add(Conv2D(64, kernel_size=(3,3), input_shape=input_shape))\n",
        "model.add(MaxPooling2D(pool_size=(2,2)))\n",
        "model.add(Flatten())\n",
        "model.add(Dense(128,activation=tf.nn.relu))\n",
        "model.add(Dropout(0.3))\n",
        "model.add(Dense(output_class,activation=tf.nn.softmax))\n",
        "\n",
        "model.compile(optimizer='adam',loss='sparse_categorical_crossentropy',metrics='accuracy')"
      ],
      "metadata": {
        "id": "770BfQaCy_Ob"
      },
      "execution_count": null,
      "outputs": []
    },
    {
      "cell_type": "code",
      "source": [
        "model.fit(x=x_train,y=y_train,batch_size=32,epochs=40,validation_data=(x_test,y_test))"
      ],
      "metadata": {
        "colab": {
          "base_uri": "https://localhost:8080/"
        },
        "id": "O7ONNB4WLBsG",
        "outputId": "b12ae0c3-d160-4fa8-a80d-7a88fa575d5a"
      },
      "execution_count": null,
      "outputs": [
        {
          "output_type": "stream",
          "name": "stdout",
          "text": [
            "Epoch 1/40\n",
            "1379/1379 [==============================] - 15s 3ms/step - loss: 0.2494 - accuracy: 0.9259 - val_loss: 0.0898 - val_accuracy: 0.9731\n",
            "Epoch 2/40\n",
            "1379/1379 [==============================] - 5s 3ms/step - loss: 0.1080 - accuracy: 0.9670 - val_loss: 0.0805 - val_accuracy: 0.9763\n",
            "Epoch 3/40\n",
            "1379/1379 [==============================] - 5s 3ms/step - loss: 0.0812 - accuracy: 0.9749 - val_loss: 0.0623 - val_accuracy: 0.9822\n",
            "Epoch 4/40\n",
            "1379/1379 [==============================] - 5s 3ms/step - loss: 0.0635 - accuracy: 0.9797 - val_loss: 0.0548 - val_accuracy: 0.9827\n",
            "Epoch 5/40\n",
            "1379/1379 [==============================] - 5s 3ms/step - loss: 0.0540 - accuracy: 0.9822 - val_loss: 0.0530 - val_accuracy: 0.9847\n",
            "Epoch 6/40\n",
            "1379/1379 [==============================] - 5s 3ms/step - loss: 0.0418 - accuracy: 0.9862 - val_loss: 0.0553 - val_accuracy: 0.9833\n",
            "Epoch 7/40\n",
            "1379/1379 [==============================] - 5s 3ms/step - loss: 0.0385 - accuracy: 0.9868 - val_loss: 0.0563 - val_accuracy: 0.9851\n",
            "Epoch 8/40\n",
            "1379/1379 [==============================] - 5s 3ms/step - loss: 0.0364 - accuracy: 0.9877 - val_loss: 0.0580 - val_accuracy: 0.9865\n",
            "Epoch 9/40\n",
            "1379/1379 [==============================] - 5s 3ms/step - loss: 0.0288 - accuracy: 0.9902 - val_loss: 0.0657 - val_accuracy: 0.9816\n",
            "Epoch 10/40\n",
            "1379/1379 [==============================] - 5s 4ms/step - loss: 0.0292 - accuracy: 0.9901 - val_loss: 0.0686 - val_accuracy: 0.9839\n",
            "Epoch 11/40\n",
            "1379/1379 [==============================] - 5s 4ms/step - loss: 0.0281 - accuracy: 0.9910 - val_loss: 0.0831 - val_accuracy: 0.9820\n",
            "Epoch 12/40\n",
            "1379/1379 [==============================] - 5s 3ms/step - loss: 0.0251 - accuracy: 0.9911 - val_loss: 0.0753 - val_accuracy: 0.9831\n",
            "Epoch 13/40\n",
            "1379/1379 [==============================] - 5s 3ms/step - loss: 0.0264 - accuracy: 0.9919 - val_loss: 0.0791 - val_accuracy: 0.9833\n",
            "Epoch 14/40\n",
            "1379/1379 [==============================] - 5s 4ms/step - loss: 0.0216 - accuracy: 0.9927 - val_loss: 0.0733 - val_accuracy: 0.9827\n",
            "Epoch 15/40\n",
            "1379/1379 [==============================] - 5s 3ms/step - loss: 0.0208 - accuracy: 0.9928 - val_loss: 0.0872 - val_accuracy: 0.9845\n",
            "Epoch 16/40\n",
            "1379/1379 [==============================] - 5s 3ms/step - loss: 0.0229 - accuracy: 0.9923 - val_loss: 0.0744 - val_accuracy: 0.9833\n",
            "Epoch 17/40\n",
            "1379/1379 [==============================] - 5s 3ms/step - loss: 0.0216 - accuracy: 0.9928 - val_loss: 0.0741 - val_accuracy: 0.9847\n",
            "Epoch 18/40\n",
            "1379/1379 [==============================] - 5s 3ms/step - loss: 0.0199 - accuracy: 0.9935 - val_loss: 0.0790 - val_accuracy: 0.9841\n",
            "Epoch 19/40\n",
            "1379/1379 [==============================] - 5s 3ms/step - loss: 0.0185 - accuracy: 0.9937 - val_loss: 0.0825 - val_accuracy: 0.9851\n",
            "Epoch 20/40\n",
            "1379/1379 [==============================] - 6s 5ms/step - loss: 0.0204 - accuracy: 0.9934 - val_loss: 0.0838 - val_accuracy: 0.9837\n",
            "Epoch 21/40\n",
            "1379/1379 [==============================] - 6s 4ms/step - loss: 0.0172 - accuracy: 0.9942 - val_loss: 0.0822 - val_accuracy: 0.9837\n",
            "Epoch 22/40\n",
            "1379/1379 [==============================] - 5s 3ms/step - loss: 0.0181 - accuracy: 0.9939 - val_loss: 0.0841 - val_accuracy: 0.9851\n",
            "Epoch 23/40\n",
            "1379/1379 [==============================] - 5s 3ms/step - loss: 0.0198 - accuracy: 0.9936 - val_loss: 0.0877 - val_accuracy: 0.9853\n",
            "Epoch 24/40\n",
            "1379/1379 [==============================] - 5s 3ms/step - loss: 0.0178 - accuracy: 0.9942 - val_loss: 0.0831 - val_accuracy: 0.9853\n",
            "Epoch 25/40\n",
            "1379/1379 [==============================] - 5s 3ms/step - loss: 0.0182 - accuracy: 0.9943 - val_loss: 0.0948 - val_accuracy: 0.9851\n",
            "Epoch 26/40\n",
            "1379/1379 [==============================] - 5s 3ms/step - loss: 0.0157 - accuracy: 0.9949 - val_loss: 0.0866 - val_accuracy: 0.9831\n",
            "Epoch 27/40\n",
            "1379/1379 [==============================] - 5s 3ms/step - loss: 0.0165 - accuracy: 0.9945 - val_loss: 0.0870 - val_accuracy: 0.9853\n",
            "Epoch 28/40\n",
            "1379/1379 [==============================] - 5s 3ms/step - loss: 0.0170 - accuracy: 0.9947 - val_loss: 0.1029 - val_accuracy: 0.9865\n",
            "Epoch 29/40\n",
            "1379/1379 [==============================] - 5s 3ms/step - loss: 0.0185 - accuracy: 0.9945 - val_loss: 0.1008 - val_accuracy: 0.9857\n",
            "Epoch 30/40\n",
            "1379/1379 [==============================] - 5s 3ms/step - loss: 0.0175 - accuracy: 0.9946 - val_loss: 0.1070 - val_accuracy: 0.9827\n",
            "Epoch 31/40\n",
            "1379/1379 [==============================] - 5s 3ms/step - loss: 0.0163 - accuracy: 0.9948 - val_loss: 0.0999 - val_accuracy: 0.9837\n",
            "Epoch 32/40\n",
            "1379/1379 [==============================] - 5s 3ms/step - loss: 0.0132 - accuracy: 0.9959 - val_loss: 0.1146 - val_accuracy: 0.9839\n",
            "Epoch 33/40\n",
            "1379/1379 [==============================] - 5s 3ms/step - loss: 0.0185 - accuracy: 0.9947 - val_loss: 0.1040 - val_accuracy: 0.9855\n",
            "Epoch 34/40\n",
            "1379/1379 [==============================] - 5s 3ms/step - loss: 0.0159 - accuracy: 0.9955 - val_loss: 0.1066 - val_accuracy: 0.9857\n",
            "Epoch 35/40\n",
            "1379/1379 [==============================] - 5s 4ms/step - loss: 0.0163 - accuracy: 0.9951 - val_loss: 0.1206 - val_accuracy: 0.9841\n",
            "Epoch 36/40\n",
            "1379/1379 [==============================] - 5s 3ms/step - loss: 0.0146 - accuracy: 0.9956 - val_loss: 0.1255 - val_accuracy: 0.9835\n",
            "Epoch 37/40\n",
            "1379/1379 [==============================] - 5s 3ms/step - loss: 0.0166 - accuracy: 0.9951 - val_loss: 0.1138 - val_accuracy: 0.9837\n",
            "Epoch 38/40\n",
            "1379/1379 [==============================] - 5s 3ms/step - loss: 0.0154 - accuracy: 0.9957 - val_loss: 0.1276 - val_accuracy: 0.9857\n",
            "Epoch 39/40\n",
            "1379/1379 [==============================] - 4s 3ms/step - loss: 0.0122 - accuracy: 0.9959 - val_loss: 0.1033 - val_accuracy: 0.9859\n",
            "Epoch 40/40\n",
            "1379/1379 [==============================] - 5s 3ms/step - loss: 0.0163 - accuracy: 0.9954 - val_loss: 0.1281 - val_accuracy: 0.9833\n"
          ]
        },
        {
          "output_type": "execute_result",
          "data": {
            "text/plain": [
              "<keras.callbacks.History at 0x7f57927b4bd0>"
            ]
          },
          "metadata": {},
          "execution_count": 18
        }
      ]
    },
    {
      "cell_type": "markdown",
      "source": [
        "Prediction"
      ],
      "metadata": {
        "id": "6Ge1c_D_jkP4"
      }
    },
    {
      "cell_type": "code",
      "source": [
        "image_index=3\n",
        "plt.imshow(x_test[image_index].reshape(28,28),cmap='Greys')\n",
        "pred=model.predict(x_test[image_index].reshape(1,28,28,1))\n",
        "print(pred.argmax())"
      ],
      "metadata": {
        "colab": {
          "base_uri": "https://localhost:8080/",
          "height": 282
        },
        "id": "90uveG-9Lnss",
        "outputId": "75a32190-8a6a-4a0b-d564-36f4e94f937d"
      },
      "execution_count": null,
      "outputs": [
        {
          "output_type": "stream",
          "name": "stdout",
          "text": [
            "0\n"
          ]
        },
        {
          "output_type": "display_data",
          "data": {
            "text/plain": [
              "<Figure size 432x288 with 1 Axes>"
            ],
            "image/png": "[encoded data removed]"
          },
          "metadata": {
            "needs_background": "light"
          }
        }
      ]
    },
    {
      "cell_type": "code",
      "source": [
        "import cv2\n",
        "from google.colab.patches import cv2_imshow"
      ],
      "metadata": {
        "id": "lhHS6KKLlv2V"
      },
      "execution_count": null,
      "outputs": []
    },
    {
      "cell_type": "code",
      "source": [
        "from PIL import Image"
      ],
      "metadata": {
        "id": "uhe6iTnJqlhR"
      },
      "execution_count": null,
      "outputs": []
    },
    {
      "cell_type": "code",
      "source": [
        "# b1 = (0,40,230,260)\n",
        "# b2 = (260,40,460,260)\n",
        "# b3 = (500,40,700,260)\n",
        "# c8 = (1670,280,1890,500)\n",
        "# c9 = (1910,280,2130,500)\n",
        "# c10 = (2140,280,2360,500)"
      ],
      "metadata": {
        "id": "NjJzyn5ys1Pe"
      },
      "execution_count": null,
      "outputs": []
    },
    {
      "cell_type": "code",
      "source": [
        "d={(0,40,230,260),(260,40,460,260),(500,40,700,260),(1670,280,1890,500),(1910,280,2130,500),}"
      ],
      "metadata": {
        "id": "fU6Qt8A8el2I"
      },
      "execution_count": null,
      "outputs": []
    },
    {
      "cell_type": "code",
      "source": [
        "img =Image.open(\"a.png\")\n",
        "j=1\n",
        "for i in d:\n",
        "  box=i\n",
        "  i1=img.crop(box)\n",
        "  #i1\n",
        "  i1.save(str(j)+'.png')\n",
        "  j=j+1"
      ],
      "metadata": {
        "id": "C0yApwffgsaL"
      },
      "execution_count": null,
      "outputs": []
    },
    {
      "cell_type": "code",
      "source": [
        "for i in range(1,7):\n",
        "    image =cv2.imread(str(i)+\".png\",0)\n",
        "    inverted_image = cv2.bitwise_not(image)\n",
        "    cv2.imwrite(str(i)+\".png\",inverted_image)"
      ],
      "metadata": {
        "id": "MTgsx4Mx4qkO"
      },
      "execution_count": null,
      "outputs": []
    },
    {
      "cell_type": "code",
      "source": [
        "# image =cv2.imread(\"8.png\",0)\n",
        "# inverted_image = cv2.bitwise_not(image)\n",
        "# cv2.imwrite(\"8.png\",inverted_image)"
      ],
      "metadata": {
        "colab": {
          "base_uri": "https://localhost:8080/"
        },
        "id": "PNfBPONBl2ef",
        "outputId": "e87574f4-998e-43b8-b5e2-99666cdc987e"
      },
      "execution_count": null,
      "outputs": [
        {
          "output_type": "execute_result",
          "data": {
            "text/plain": [
              "True"
            ]
          },
          "metadata": {},
          "execution_count": 49
        }
      ]
    },
    {
      "cell_type": "code",
      "source": [
        "n1=''"
      ],
      "metadata": {
        "id": "mYxeDlXOtpCr"
      },
      "execution_count": null,
      "outputs": []
    },
    {
      "cell_type": "code",
      "source": [
        "n2=''"
      ],
      "metadata": {
        "id": "QtZ9_UdpwYV9"
      },
      "execution_count": null,
      "outputs": []
    },
    {
      "cell_type": "code",
      "source": [
        "# a = np.array([img_to_array(load_img(str(8)+\".png\",target_size=(28,28,1),grayscale=True))\n",
        "#               ]).astype('float32')\n",
        "# plt.imshow(a.reshape(28,28),cmap='Greys')\n",
        "# pred=model.predict(a.reshape(1,28,28,1))\n",
        "# print(pred.argmax())"
      ],
      "metadata": {
        "id": "BD-AokaW7dG2"
      },
      "execution_count": null,
      "outputs": []
    },
    {
      "cell_type": "code",
      "source": [
        "for i in range(1,4):\n",
        "    a = np.array([img_to_array(load_img(str(i)+\".png\",target_size=(28,28,1),grayscale=True))\n",
        "                  ]).astype('float32')\n",
        "    plt.imshow(a.reshape(28,28),cmap='Greys')\n",
        "    pred=model.predict(a.reshape(1,28,28,1))\n",
        "    print(pred.argmax())\n",
        "    n1=n1+(str(pred.argmax()))"
      ],
      "metadata": {
        "colab": {
          "base_uri": "https://localhost:8080/",
          "height": 317
        },
        "id": "NDXaGiexPUiL",
        "outputId": "a680e14a-534a-454a-99ce-e9cebae9033e"
      },
      "execution_count": null,
      "outputs": [
        {
          "output_type": "stream",
          "name": "stdout",
          "text": [
            "1\n",
            "8\n",
            "3\n"
          ]
        },
        {
          "output_type": "display_data",
          "data": {
            "text/plain": [
              "<Figure size 432x288 with 1 Axes>"
            ],
            "image/png": "[encoded data removed]"
          },
          "metadata": {
            "needs_background": "light"
          }
        }
      ]
    },
    {
      "cell_type": "code",
      "source": [
        "for i in range(4,7):\n",
        "    a = np.array([img_to_array(load_img(str(i)+\".png\",target_size=(28,28,1),grayscale=True))\n",
        "                  ]).astype('float32')\n",
        "    plt.imshow(a.reshape(28,28),cmap='Greys')\n",
        "    pred=model.predict(a.reshape(1,28,28,1))\n",
        "    print(pred.argmax())\n",
        "    n2=n2+(str(pred.argmax()))"
      ],
      "metadata": {
        "colab": {
          "base_uri": "https://localhost:8080/",
          "height": 317
        },
        "id": "t-juHai54Rl8",
        "outputId": "ce0d66d4-4335-4b43-84d2-aa39e0b39cb5"
      },
      "execution_count": null,
      "outputs": [
        {
          "output_type": "stream",
          "name": "stdout",
          "text": [
            "9\n",
            "2\n",
            "0\n"
          ]
        },
        {
          "output_type": "display_data",
          "data": {
            "text/plain": [
              "<Figure size 432x288 with 1 Axes>"
            ],
            "image/png": "[encoded data removed]"
          },
          "metadata": {
            "needs_background": "light"
          }
        }
      ]
    },
    {
      "cell_type": "markdown",
      "source": [
        "Calculation"
      ],
      "metadata": {
        "id": "vFjH_vsNjrH6"
      }
    },
    {
      "cell_type": "code",
      "source": [
        "n3 = int(n1)+ int (n2)\n",
        "print(str(n1)+\"+\"+str(n2)+\"=\"+str(n3))"
      ],
      "metadata": {
        "id": "uBBQXj7Uf9Tw",
        "colab": {
          "base_uri": "https://localhost:8080/"
        },
        "outputId": "4b5b6137-e249-4b7e-d7cd-91a7b276adde"
      },
      "execution_count": null,
      "outputs": [
        {
          "output_type": "stream",
          "name": "stdout",
          "text": [
            "183+920=1103\n"
          ]
        }
      ]
    },
    {
      "cell_type": "code",
      "source": [
        "n3 = int(n1)-int (n2)\n",
        "print(str(n1)+\"-\"+str(n2)+\"=\"+str(n3))"
      ],
      "metadata": {
        "colab": {
          "base_uri": "https://localhost:8080/"
        },
        "id": "-tSEHuAizF6x",
        "outputId": "2465a7e2-549e-4cf0-b6df-eb2a5211487a"
      },
      "execution_count": null,
      "outputs": [
        {
          "output_type": "stream",
          "name": "stdout",
          "text": [
            "183-920=-737\n"
          ]
        }
      ]
    },
    {
      "cell_type": "code",
      "source": [
        "n3 = int(n1)*int (n2)\n",
        "print(str(n1)+\"*\"+str(n2)+\"=\"+str(n3))"
      ],
      "metadata": {
        "id": "kfu_gqQJ5TYP",
        "colab": {
          "base_uri": "https://localhost:8080/"
        },
        "outputId": "71d449f1-a08b-4e1d-cd2e-6466d7300d5e"
      },
      "execution_count": null,
      "outputs": [
        {
          "output_type": "stream",
          "name": "stdout",
          "text": [
            "183*920=168360\n"
          ]
        }
      ]
    },
    {
      "cell_type": "code",
      "source": [
        "n3 = int(n1)/int (n2)\n",
        "print(str(n1)+\"/\"+str(n2)+\"=\"+str(n3))"
      ],
      "metadata": {
        "id": "4TJo8y3n5Y8x",
        "colab": {
          "base_uri": "https://localhost:8080/"
        },
        "outputId": "b9fad45d-60b8-40b7-d4a7-4e177d74f8ae"
      },
      "execution_count": null,
      "outputs": [
        {
          "output_type": "stream",
          "name": "stdout",
          "text": [
            "183/920=0.19891304347826086\n"
          ]
        }
      ]
    },
    {
      "cell_type": "code",
      "source": [],
      "metadata": {
        "id": "XRnp6ndeiAZG"
      },
      "execution_count": null,
      "outputs": []
    }
  ]
}